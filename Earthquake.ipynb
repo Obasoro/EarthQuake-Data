{
 "cells": [
  {
   "cell_type": "markdown",
   "metadata": {},
   "source": [
    "Working through some of the works and tutorial carried out during Transform 2020"
   ]
  },
  {
   "cell_type": "code",
   "execution_count": 1,
   "metadata": {},
   "outputs": [
    {
     "data": {
      "text/plain": [
       "'C:\\\\Users\\\\Toyin Obasoro\\\\Desktop\\\\Geoscience Coding\\\\Transform2020\\\\transform2020-getting-started-python'"
      ]
     },
     "execution_count": 1,
     "metadata": {},
     "output_type": "execute_result"
    }
   ],
   "source": [
    "import os\n",
    "os.getcwd()"
   ]
  },
  {
   "cell_type": "code",
   "execution_count": 16,
   "metadata": {},
   "outputs": [],
   "source": [
    "import pandas as pd\n",
    "import numpy as np\n",
    "import matplotlib.pyplot as plt\n",
    "import lasio as ls\n",
    "import bruges as br\n",
    "import scipy as sc\n",
    "\n",
    "\n",
    "%matplotlib inline"
   ]
  },
  {
   "cell_type": "code",
   "execution_count": 3,
   "metadata": {},
   "outputs": [],
   "source": [
    "data_earthquake = pd.read_csv(\"C:\\\\Users\\\\Toyin Obasoro\\\\Downloads\\\\earthquakes (1).csv\")"
   ]
  },
  {
   "cell_type": "code",
   "execution_count": 4,
   "metadata": {},
   "outputs": [
    {
     "data": {
      "text/html": [
       "<div>\n",
       "<style scoped>\n",
       "    .dataframe tbody tr th:only-of-type {\n",
       "        vertical-align: middle;\n",
       "    }\n",
       "\n",
       "    .dataframe tbody tr th {\n",
       "        vertical-align: top;\n",
       "    }\n",
       "\n",
       "    .dataframe thead th {\n",
       "        text-align: right;\n",
       "    }\n",
       "</style>\n",
       "<table border=\"1\" class=\"dataframe\">\n",
       "  <thead>\n",
       "    <tr style=\"text-align: right;\">\n",
       "      <th></th>\n",
       "      <th>time</th>\n",
       "      <th>latitude</th>\n",
       "      <th>longitude</th>\n",
       "      <th>depth</th>\n",
       "      <th>mag</th>\n",
       "      <th>magType</th>\n",
       "      <th>nst</th>\n",
       "      <th>gap</th>\n",
       "      <th>dmin</th>\n",
       "      <th>rms</th>\n",
       "      <th>...</th>\n",
       "      <th>updated</th>\n",
       "      <th>place</th>\n",
       "      <th>type</th>\n",
       "      <th>horizontalError</th>\n",
       "      <th>depthError</th>\n",
       "      <th>magError</th>\n",
       "      <th>magNst</th>\n",
       "      <th>status</th>\n",
       "      <th>locationSource</th>\n",
       "      <th>magSource</th>\n",
       "    </tr>\n",
       "  </thead>\n",
       "  <tbody>\n",
       "    <tr>\n",
       "      <td>0</td>\n",
       "      <td>2020-05-20T00:24:08.590Z</td>\n",
       "      <td>38.150000</td>\n",
       "      <td>-117.959800</td>\n",
       "      <td>6.40</td>\n",
       "      <td>1.90</td>\n",
       "      <td>ml</td>\n",
       "      <td>19.0</td>\n",
       "      <td>111.42</td>\n",
       "      <td>0.248000</td>\n",
       "      <td>0.06</td>\n",
       "      <td>...</td>\n",
       "      <td>2020-05-20T00:29:52.618Z</td>\n",
       "      <td>64km W of Tonopah, Nevada</td>\n",
       "      <td>earthquake</td>\n",
       "      <td>NaN</td>\n",
       "      <td>9.70</td>\n",
       "      <td>NaN</td>\n",
       "      <td>NaN</td>\n",
       "      <td>automatic</td>\n",
       "      <td>nn</td>\n",
       "      <td>nn</td>\n",
       "    </tr>\n",
       "    <tr>\n",
       "      <td>1</td>\n",
       "      <td>2020-05-20T00:19:45.825Z</td>\n",
       "      <td>64.763600</td>\n",
       "      <td>-149.166600</td>\n",
       "      <td>15.40</td>\n",
       "      <td>1.50</td>\n",
       "      <td>ml</td>\n",
       "      <td>NaN</td>\n",
       "      <td>NaN</td>\n",
       "      <td>NaN</td>\n",
       "      <td>0.76</td>\n",
       "      <td>...</td>\n",
       "      <td>2020-05-20T00:29:35.466Z</td>\n",
       "      <td>20km N of North Nenana, Alaska</td>\n",
       "      <td>earthquake</td>\n",
       "      <td>NaN</td>\n",
       "      <td>0.30</td>\n",
       "      <td>NaN</td>\n",
       "      <td>NaN</td>\n",
       "      <td>automatic</td>\n",
       "      <td>ak</td>\n",
       "      <td>ak</td>\n",
       "    </tr>\n",
       "    <tr>\n",
       "      <td>2</td>\n",
       "      <td>2020-05-20T00:19:04.947Z</td>\n",
       "      <td>60.029600</td>\n",
       "      <td>-147.435300</td>\n",
       "      <td>20.10</td>\n",
       "      <td>1.80</td>\n",
       "      <td>ml</td>\n",
       "      <td>NaN</td>\n",
       "      <td>NaN</td>\n",
       "      <td>NaN</td>\n",
       "      <td>0.68</td>\n",
       "      <td>...</td>\n",
       "      <td>2020-05-20T00:25:23.866Z</td>\n",
       "      <td>90km NW of Middleton Island, Alaska</td>\n",
       "      <td>earthquake</td>\n",
       "      <td>NaN</td>\n",
       "      <td>0.20</td>\n",
       "      <td>NaN</td>\n",
       "      <td>NaN</td>\n",
       "      <td>automatic</td>\n",
       "      <td>ak</td>\n",
       "      <td>ak</td>\n",
       "    </tr>\n",
       "    <tr>\n",
       "      <td>3</td>\n",
       "      <td>2020-05-20T00:14:52.960Z</td>\n",
       "      <td>37.512200</td>\n",
       "      <td>-117.155500</td>\n",
       "      <td>0.40</td>\n",
       "      <td>1.70</td>\n",
       "      <td>ml</td>\n",
       "      <td>9.0</td>\n",
       "      <td>154.84</td>\n",
       "      <td>0.702000</td>\n",
       "      <td>0.24</td>\n",
       "      <td>...</td>\n",
       "      <td>2020-05-20T00:25:32.050Z</td>\n",
       "      <td>22km SSE of Goldfield, Nevada</td>\n",
       "      <td>earthquake</td>\n",
       "      <td>NaN</td>\n",
       "      <td>20.70</td>\n",
       "      <td>NaN</td>\n",
       "      <td>NaN</td>\n",
       "      <td>automatic</td>\n",
       "      <td>nn</td>\n",
       "      <td>nn</td>\n",
       "    </tr>\n",
       "    <tr>\n",
       "      <td>4</td>\n",
       "      <td>2020-05-20T00:01:55.000Z</td>\n",
       "      <td>38.813332</td>\n",
       "      <td>-122.827835</td>\n",
       "      <td>1.99</td>\n",
       "      <td>0.57</td>\n",
       "      <td>md</td>\n",
       "      <td>16.0</td>\n",
       "      <td>58.00</td>\n",
       "      <td>0.004579</td>\n",
       "      <td>0.02</td>\n",
       "      <td>...</td>\n",
       "      <td>2020-05-20T00:10:05.754Z</td>\n",
       "      <td>7km WNW of The Geysers, CA</td>\n",
       "      <td>earthquake</td>\n",
       "      <td>0.25</td>\n",
       "      <td>0.59</td>\n",
       "      <td>0.01</td>\n",
       "      <td>2.0</td>\n",
       "      <td>automatic</td>\n",
       "      <td>nc</td>\n",
       "      <td>nc</td>\n",
       "    </tr>\n",
       "  </tbody>\n",
       "</table>\n",
       "<p>5 rows × 22 columns</p>\n",
       "</div>"
      ],
      "text/plain": [
       "                       time   latitude   longitude  depth   mag magType   nst  \\\n",
       "0  2020-05-20T00:24:08.590Z  38.150000 -117.959800   6.40  1.90      ml  19.0   \n",
       "1  2020-05-20T00:19:45.825Z  64.763600 -149.166600  15.40  1.50      ml   NaN   \n",
       "2  2020-05-20T00:19:04.947Z  60.029600 -147.435300  20.10  1.80      ml   NaN   \n",
       "3  2020-05-20T00:14:52.960Z  37.512200 -117.155500   0.40  1.70      ml   9.0   \n",
       "4  2020-05-20T00:01:55.000Z  38.813332 -122.827835   1.99  0.57      md  16.0   \n",
       "\n",
       "      gap      dmin   rms  ...                   updated  \\\n",
       "0  111.42  0.248000  0.06  ...  2020-05-20T00:29:52.618Z   \n",
       "1     NaN       NaN  0.76  ...  2020-05-20T00:29:35.466Z   \n",
       "2     NaN       NaN  0.68  ...  2020-05-20T00:25:23.866Z   \n",
       "3  154.84  0.702000  0.24  ...  2020-05-20T00:25:32.050Z   \n",
       "4   58.00  0.004579  0.02  ...  2020-05-20T00:10:05.754Z   \n",
       "\n",
       "                                 place        type horizontalError depthError  \\\n",
       "0            64km W of Tonopah, Nevada  earthquake             NaN       9.70   \n",
       "1       20km N of North Nenana, Alaska  earthquake             NaN       0.30   \n",
       "2  90km NW of Middleton Island, Alaska  earthquake             NaN       0.20   \n",
       "3        22km SSE of Goldfield, Nevada  earthquake             NaN      20.70   \n",
       "4           7km WNW of The Geysers, CA  earthquake            0.25       0.59   \n",
       "\n",
       "   magError  magNst     status  locationSource magSource  \n",
       "0       NaN     NaN  automatic              nn        nn  \n",
       "1       NaN     NaN  automatic              ak        ak  \n",
       "2       NaN     NaN  automatic              ak        ak  \n",
       "3       NaN     NaN  automatic              nn        nn  \n",
       "4      0.01     2.0  automatic              nc        nc  \n",
       "\n",
       "[5 rows x 22 columns]"
      ]
     },
     "execution_count": 4,
     "metadata": {},
     "output_type": "execute_result"
    }
   ],
   "source": [
    "data_earthquake.head()"
   ]
  },
  {
   "cell_type": "code",
   "execution_count": 5,
   "metadata": {},
   "outputs": [
    {
     "name": "stdout",
     "output_type": "stream",
     "text": [
      "<class 'pandas.core.frame.DataFrame'>\n",
      "RangeIndex: 3757 entries, 0 to 3756\n",
      "Data columns (total 22 columns):\n",
      "time               3757 non-null object\n",
      "latitude           3757 non-null float64\n",
      "longitude          3757 non-null float64\n",
      "depth              3757 non-null float64\n",
      "mag                3757 non-null float64\n",
      "magType            3757 non-null object\n",
      "nst                3058 non-null float64\n",
      "gap                3264 non-null float64\n",
      "dmin               3264 non-null float64\n",
      "rms                3757 non-null float64\n",
      "net                3757 non-null object\n",
      "id                 3757 non-null object\n",
      "updated            3757 non-null object\n",
      "place              3757 non-null object\n",
      "type               3757 non-null object\n",
      "horizontalError    1723 non-null float64\n",
      "depthError         3757 non-null float64\n",
      "magError           2074 non-null float64\n",
      "magNst             2151 non-null float64\n",
      "status             3757 non-null object\n",
      "locationSource     3757 non-null object\n",
      "magSource          3757 non-null object\n",
      "dtypes: float64(12), object(10)\n",
      "memory usage: 645.9+ KB\n"
     ]
    }
   ],
   "source": [
    "data_earthquake.info()"
   ]
  },
  {
   "cell_type": "code",
   "execution_count": 6,
   "metadata": {},
   "outputs": [
    {
     "data": {
      "text/html": [
       "<div>\n",
       "<style scoped>\n",
       "    .dataframe tbody tr th:only-of-type {\n",
       "        vertical-align: middle;\n",
       "    }\n",
       "\n",
       "    .dataframe tbody tr th {\n",
       "        vertical-align: top;\n",
       "    }\n",
       "\n",
       "    .dataframe thead th {\n",
       "        text-align: right;\n",
       "    }\n",
       "</style>\n",
       "<table border=\"1\" class=\"dataframe\">\n",
       "  <thead>\n",
       "    <tr style=\"text-align: right;\">\n",
       "      <th></th>\n",
       "      <th>latitude</th>\n",
       "      <th>longitude</th>\n",
       "      <th>depth</th>\n",
       "      <th>mag</th>\n",
       "      <th>nst</th>\n",
       "      <th>gap</th>\n",
       "      <th>dmin</th>\n",
       "      <th>rms</th>\n",
       "      <th>horizontalError</th>\n",
       "      <th>depthError</th>\n",
       "      <th>magError</th>\n",
       "      <th>magNst</th>\n",
       "    </tr>\n",
       "  </thead>\n",
       "  <tbody>\n",
       "    <tr>\n",
       "      <td>count</td>\n",
       "      <td>3757.000000</td>\n",
       "      <td>3757.000000</td>\n",
       "      <td>3757.000000</td>\n",
       "      <td>3757.000000</td>\n",
       "      <td>3058.000000</td>\n",
       "      <td>3264.000000</td>\n",
       "      <td>3264.000000</td>\n",
       "      <td>3757.000000</td>\n",
       "      <td>1723.00000</td>\n",
       "      <td>3757.000000</td>\n",
       "      <td>2074.000000</td>\n",
       "      <td>2151.000000</td>\n",
       "    </tr>\n",
       "    <tr>\n",
       "      <td>mean</td>\n",
       "      <td>39.922714</td>\n",
       "      <td>-119.053622</td>\n",
       "      <td>13.348754</td>\n",
       "      <td>1.756380</td>\n",
       "      <td>18.759974</td>\n",
       "      <td>113.490757</td>\n",
       "      <td>0.258227</td>\n",
       "      <td>0.250501</td>\n",
       "      <td>1.14603</td>\n",
       "      <td>4.168270</td>\n",
       "      <td>0.243109</td>\n",
       "      <td>14.959554</td>\n",
       "    </tr>\n",
       "    <tr>\n",
       "      <td>std</td>\n",
       "      <td>12.357830</td>\n",
       "      <td>39.412906</td>\n",
       "      <td>30.497653</td>\n",
       "      <td>1.092968</td>\n",
       "      <td>13.511960</td>\n",
       "      <td>51.445469</td>\n",
       "      <td>0.833122</td>\n",
       "      <td>0.249704</td>\n",
       "      <td>2.21282</td>\n",
       "      <td>28.876732</td>\n",
       "      <td>0.434650</td>\n",
       "      <td>29.173702</td>\n",
       "    </tr>\n",
       "    <tr>\n",
       "      <td>min</td>\n",
       "      <td>-35.793400</td>\n",
       "      <td>-179.979600</td>\n",
       "      <td>-3.400000</td>\n",
       "      <td>-1.340000</td>\n",
       "      <td>0.000000</td>\n",
       "      <td>16.000000</td>\n",
       "      <td>0.000000</td>\n",
       "      <td>0.000000</td>\n",
       "      <td>0.10000</td>\n",
       "      <td>0.000000</td>\n",
       "      <td>0.000000</td>\n",
       "      <td>0.000000</td>\n",
       "    </tr>\n",
       "    <tr>\n",
       "      <td>25%</td>\n",
       "      <td>36.242833</td>\n",
       "      <td>-122.817833</td>\n",
       "      <td>2.700000</td>\n",
       "      <td>1.080000</td>\n",
       "      <td>10.000000</td>\n",
       "      <td>77.000000</td>\n",
       "      <td>0.035158</td>\n",
       "      <td>0.100000</td>\n",
       "      <td>0.27000</td>\n",
       "      <td>0.530000</td>\n",
       "      <td>0.114000</td>\n",
       "      <td>5.000000</td>\n",
       "    </tr>\n",
       "    <tr>\n",
       "      <td>50%</td>\n",
       "      <td>38.172000</td>\n",
       "      <td>-117.911300</td>\n",
       "      <td>6.800000</td>\n",
       "      <td>1.790000</td>\n",
       "      <td>15.000000</td>\n",
       "      <td>106.995000</td>\n",
       "      <td>0.082000</td>\n",
       "      <td>0.160000</td>\n",
       "      <td>0.45000</td>\n",
       "      <td>1.000000</td>\n",
       "      <td>0.174000</td>\n",
       "      <td>7.000000</td>\n",
       "    </tr>\n",
       "    <tr>\n",
       "      <td>75%</td>\n",
       "      <td>40.738333</td>\n",
       "      <td>-117.482000</td>\n",
       "      <td>10.600000</td>\n",
       "      <td>2.360000</td>\n",
       "      <td>22.000000</td>\n",
       "      <td>142.297500</td>\n",
       "      <td>0.294000</td>\n",
       "      <td>0.280000</td>\n",
       "      <td>0.71000</td>\n",
       "      <td>2.570000</td>\n",
       "      <td>0.248750</td>\n",
       "      <td>16.000000</td>\n",
       "    </tr>\n",
       "    <tr>\n",
       "      <td>max</td>\n",
       "      <td>69.636400</td>\n",
       "      <td>179.915800</td>\n",
       "      <td>597.890000</td>\n",
       "      <td>6.500000</td>\n",
       "      <td>118.000000</td>\n",
       "      <td>336.000000</td>\n",
       "      <td>35.743000</td>\n",
       "      <td>1.620000</td>\n",
       "      <td>24.09000</td>\n",
       "      <td>1707.200000</td>\n",
       "      <td>5.300000</td>\n",
       "      <td>470.000000</td>\n",
       "    </tr>\n",
       "  </tbody>\n",
       "</table>\n",
       "</div>"
      ],
      "text/plain": [
       "          latitude    longitude        depth          mag          nst  \\\n",
       "count  3757.000000  3757.000000  3757.000000  3757.000000  3058.000000   \n",
       "mean     39.922714  -119.053622    13.348754     1.756380    18.759974   \n",
       "std      12.357830    39.412906    30.497653     1.092968    13.511960   \n",
       "min     -35.793400  -179.979600    -3.400000    -1.340000     0.000000   \n",
       "25%      36.242833  -122.817833     2.700000     1.080000    10.000000   \n",
       "50%      38.172000  -117.911300     6.800000     1.790000    15.000000   \n",
       "75%      40.738333  -117.482000    10.600000     2.360000    22.000000   \n",
       "max      69.636400   179.915800   597.890000     6.500000   118.000000   \n",
       "\n",
       "               gap         dmin          rms  horizontalError   depthError  \\\n",
       "count  3264.000000  3264.000000  3757.000000       1723.00000  3757.000000   \n",
       "mean    113.490757     0.258227     0.250501          1.14603     4.168270   \n",
       "std      51.445469     0.833122     0.249704          2.21282    28.876732   \n",
       "min      16.000000     0.000000     0.000000          0.10000     0.000000   \n",
       "25%      77.000000     0.035158     0.100000          0.27000     0.530000   \n",
       "50%     106.995000     0.082000     0.160000          0.45000     1.000000   \n",
       "75%     142.297500     0.294000     0.280000          0.71000     2.570000   \n",
       "max     336.000000    35.743000     1.620000         24.09000  1707.200000   \n",
       "\n",
       "          magError       magNst  \n",
       "count  2074.000000  2151.000000  \n",
       "mean      0.243109    14.959554  \n",
       "std       0.434650    29.173702  \n",
       "min       0.000000     0.000000  \n",
       "25%       0.114000     5.000000  \n",
       "50%       0.174000     7.000000  \n",
       "75%       0.248750    16.000000  \n",
       "max       5.300000   470.000000  "
      ]
     },
     "execution_count": 6,
     "metadata": {},
     "output_type": "execute_result"
    }
   ],
   "source": [
    "data_earthquake.describe()"
   ]
  },
  {
   "cell_type": "code",
   "execution_count": 7,
   "metadata": {},
   "outputs": [
    {
     "data": {
      "text/plain": [
       "time                  0\n",
       "latitude              0\n",
       "longitude             0\n",
       "depth                 0\n",
       "mag                   0\n",
       "magType               0\n",
       "nst                 699\n",
       "gap                 493\n",
       "dmin                493\n",
       "rms                   0\n",
       "net                   0\n",
       "id                    0\n",
       "updated               0\n",
       "place                 0\n",
       "type                  0\n",
       "horizontalError    2034\n",
       "depthError            0\n",
       "magError           1683\n",
       "magNst             1606\n",
       "status                0\n",
       "locationSource        0\n",
       "magSource             0\n",
       "dtype: int64"
      ]
     },
     "execution_count": 7,
     "metadata": {},
     "output_type": "execute_result"
    }
   ],
   "source": [
    "data_earthquake.isnull().sum()"
   ]
  },
  {
   "cell_type": "code",
   "execution_count": 14,
   "metadata": {},
   "outputs": [
    {
     "ename": "SyntaxError",
     "evalue": "invalid syntax (<ipython-input-14-8dd5b4de6fa8>, line 1)",
     "output_type": "error",
     "traceback": [
      "\u001b[1;36m  File \u001b[1;32m\"<ipython-input-14-8dd5b4de6fa8>\"\u001b[1;36m, line \u001b[1;32m1\u001b[0m\n\u001b[1;33m    import geopandas gpd\u001b[0m\n\u001b[1;37m                       ^\u001b[0m\n\u001b[1;31mSyntaxError\u001b[0m\u001b[1;31m:\u001b[0m invalid syntax\n"
     ]
    }
   ],
   "source": [
    "import geopandas gpd"
   ]
  },
  {
   "cell_type": "code",
   "execution_count": 9,
   "metadata": {},
   "outputs": [],
   "source": [
    "data_earthquake.time = pd.to_datetime(data_earthquake.time)\n",
    "data_earthquake.sort_values(\"time\", inplace=True)"
   ]
  },
  {
   "cell_type": "code",
   "execution_count": 10,
   "metadata": {},
   "outputs": [
    {
     "name": "stderr",
     "output_type": "stream",
     "text": [
      "C:\\Users\\Toyin Obasoro\\Anaconda3\\lib\\site-packages\\pandas\\plotting\\_matplotlib\\converter.py:103: FutureWarning: Using an implicitly registered datetime converter for a matplotlib plotting method. The converter was registered by pandas on import. Future versions of pandas will require you to explicitly register matplotlib converters.\n",
      "\n",
      "To register the converters:\n",
      "\t>>> from pandas.plotting import register_matplotlib_converters\n",
      "\t>>> register_matplotlib_converters()\n",
      "  warnings.warn(msg, FutureWarning)\n"
     ]
    },
    {
     "data": {
      "image/png": "[encoded data removed]",
      "text/plain": [
       "<Figure size 1440x288 with 1 Axes>"
      ]
     },
     "metadata": {
      "needs_background": "light"
     },
     "output_type": "display_data"
    }
   ],
   "source": [
    "fig = plt.figure()\n",
    "fig.set_size_inches(20, 4)\n",
    "plt.plot(data_earthquake.time, data_earthquake.mag, \".\");\n",
    "plt.ylabel(\"Magnitude\");"
   ]
  },
  {
   "cell_type": "code",
   "execution_count": 11,
   "metadata": {},
   "outputs": [
    {
     "data": {
      "image/png": "[encoded data removed]",
      "text/plain": [
       "<Figure size 432x288 with 1 Axes>"
      ]
     },
     "metadata": {
      "needs_background": "light"
     },
     "output_type": "display_data"
    }
   ],
   "source": [
    "data_earthquake.mag.hist(density=True, alpha=0.5, bins=30)\n",
    "plt.xlabel(\"Earthquake magnitude\")\n",
    "plt.title(\"Histogram of earthquake magnitudes\");"
   ]
  },
  {
   "cell_type": "code",
   "execution_count": 12,
   "metadata": {},
   "outputs": [
    {
     "data": {
      "text/plain": [
       "626.1666666666666"
      ]
     },
     "execution_count": 12,
     "metadata": {},
     "output_type": "execute_result"
    }
   ],
   "source": [
    "duration = data_earthquake.time.max() - data_earthquake.time.min()\n",
    "density = len(data_earthquake) / float(duration.days)\n",
    "density  # events per day"
   ]
  },
  {
   "cell_type": "code",
   "execution_count": 17,
   "metadata": {},
   "outputs": [
    {
     "data": {
      "image/png": "[encoded data removed]",
      "text/plain": [
       "<Figure size 432x288 with 1 Axes>"
      ]
     },
     "metadata": {
      "needs_background": "light"
     },
     "output_type": "display_data"
    }
   ],
   "source": [
    "# calculate the time delta between successive rows and convert into days\n",
    "interarrival = data_earthquake.time.diff().dropna().apply(lambda x: x / np.timedelta64(1, \"D\"))\n",
    "support = np.linspace(interarrival.min(), interarrival.max(), 100)\n",
    "interarrival.hist(density=True, alpha=0.5, bins=30)\n",
    "plt.plot(support, sc.stats.expon(scale=1/density).pdf(support), lw=2)\n",
    "plt.title(\"Duration between 5+ earthquakes\", weight=\"bold\")\n",
    "plt.xlabel(\"Days\");"
   ]
  },
  {
   "cell_type": "code",
   "execution_count": 19,
   "metadata": {},
   "outputs": [
    {
     "data": {
      "image/png": "[encoded data removed]",
      "text/plain": [
       "<Figure size 432x288 with 1 Axes>"
      ]
     },
     "metadata": {
      "needs_background": "light"
     },
     "output_type": "display_data"
    }
   ],
   "source": [
    "shape, loc = sc.stats.expon.fit(interarrival)\n",
    "sc.stats.probplot(interarrival, dist=\"expon\", sparams=(shape, loc), plot=plt.figure().add_subplot(111))\n",
    "plt.title(\"Exponential QQ-plot of interarrival time\");"
   ]
  },
  {
   "cell_type": "code",
   "execution_count": 20,
   "metadata": {},
   "outputs": [
    {
     "data": {
      "image/png": "[encoded data removed]",
      "text/plain": [
       "<Figure size 432x288 with 1 Axes>"
      ]
     },
     "metadata": {
      "needs_background": "light"
     },
     "output_type": "display_data"
    }
   ],
   "source": [
    "plt.acorr(interarrival, maxlags=200)\n",
    "plt.title(\"Autocorrelation of earthquake timeseries data\");"
   ]
  },
  {
   "cell_type": "code",
   "execution_count": null,
   "metadata": {},
   "outputs": [],
   "source": [
    "#importing what we'll need\n",
    "print(\"wait for it ...\")\n",
    "print(\" ... \")\n",
    "import numpy as np\n",
    "import pandas as pd\n",
    "%matplotlib inline\n",
    "import matplotlib.pyplot as plt\n",
    "pd.options.display.max_columns = 25\n",
    "#Colab requires specific installation of cartopy\n",
    "!apt-get -qq install python-cartopy python3-cartopy;\n",
    "!pip uninstall -y shapely;    # cartopy and shapely aren't friends (early 2020)\n",
    "!pip install shapely --no-binary shapely;\n",
    "import cartopy.crs as ccrs\n",
    "import cartopy.feature as cfeature\n",
    "from cartopy.mpl.ticker import LongitudeFormatter, LatitudeFormatter\n",
    "print(\" ... \")\n",
    "print(\"... and ... done!\")"
   ]
  },
  {
   "cell_type": "code",
   "execution_count": null,
   "metadata": {},
   "outputs": [],
   "source": []
  },
  {
   "cell_type": "code",
   "execution_count": null,
   "metadata": {},
   "outputs": [],
   "source": [
    "fig, ax = plt.subplots(figsize=(12,7))\n",
    "ax = plt.axes(projection=ccrs.PlateCarree(central_longitude=180)) # try centering the map somewhere else\n",
    "ax.set_global()\n",
    "#ax.add_feature(cfeature.OCEAN)\n",
    "ax.set_xticks([0, 60, 120, 180, 240, 300, 360], crs=ccrs.PlateCarree())\n",
    "ax.set_yticks([-90, -60, -30, 0, 30, 60, 90], crs=ccrs.PlateCarree())\n",
    "lon_formatter = LongitudeFormatter(zero_direction_label=True)\n",
    "lat_formatter = LatitudeFormatter()\n",
    "ax.xaxis.set_major_formatter(lon_formatter)\n",
    "ax.yaxis.set_major_formatter(lat_formatter)\n",
    "\n",
    "# makes the scatterplot\n",
    "plotdata = data.query('depth > 0') #depth is in km\n",
    "x = plotdata['longitude']\n",
    "y = plotdata['latitude']\n",
    "ax.scatter(x,y,s=2, zorder=10, color='black',transform=ccrs.PlateCarree())\n",
    "ax.set_title('Title!')\n",
    "ax.set_xlabel('label me')\n",
    "ax.set_ylabel('me, too!')\n",
    "plt.show()"
   ]
  },
  {
   "cell_type": "code",
   "execution_count": null,
   "metadata": {},
   "outputs": [],
   "source": [
    "time\tlatitude\tlongitude\tdepth\tmagnitude"
   ]
  },
  {
   "cell_type": "code",
   "execution_count": null,
   "metadata": {},
   "outputs": [],
   "source": []
  },
  {
   "cell_type": "code",
   "execution_count": null,
   "metadata": {},
   "outputs": [],
   "source": []
  },
  {
   "cell_type": "code",
   "execution_count": null,
   "metadata": {},
   "outputs": [],
   "source": []
  },
  {
   "cell_type": "code",
   "execution_count": null,
   "metadata": {},
   "outputs": [],
   "source": []
  },
  {
   "cell_type": "code",
   "execution_count": null,
   "metadata": {},
   "outputs": [],
   "source": []
  },
  {
   "cell_type": "code",
   "execution_count": null,
   "metadata": {},
   "outputs": [],
   "source": []
  },
  {
   "cell_type": "code",
   "execution_count": 5,
   "metadata": {},
   "outputs": [],
   "source": [
    "def compute(x, y, z):\n",
    "    if x != y:\n",
    "        print('value of', (x*y))\n",
    "        \n",
    "    else:\n",
    "        print('The value:', (x/z))\n",
    "        \n",
    "    return ((x/y)*(x/z) == 1)"
   ]
  },
  {
   "cell_type": "code",
   "execution_count": 6,
   "metadata": {},
   "outputs": [
    {
     "name": "stdout",
     "output_type": "stream",
     "text": [
      "value of 20\n"
     ]
    }
   ],
   "source": [
    "area = compute(4,5,6)"
   ]
  },
  {
   "cell_type": "code",
   "execution_count": 7,
   "metadata": {},
   "outputs": [
    {
     "name": "stdout",
     "output_type": "stream",
     "text": [
      "value of [1, 3, 5, 7, 9]\n"
     ]
    },
    {
     "ename": "TypeError",
     "evalue": "unsupported operand type(s) for /: 'list' and 'int'",
     "output_type": "error",
     "traceback": [
      "\u001b[1;31m---------------------------------------------------------------------------\u001b[0m",
      "\u001b[1;31mTypeError\u001b[0m                                 Traceback (most recent call last)",
      "\u001b[1;32m<ipython-input-7-570c9e3437d8>\u001b[0m in \u001b[0;36m<module>\u001b[1;34m\u001b[0m\n\u001b[0;32m      2\u001b[0m \u001b[1;33m\u001b[0m\u001b[0m\n\u001b[0;32m      3\u001b[0m \u001b[1;32mfor\u001b[0m \u001b[0mi\u001b[0m \u001b[1;32min\u001b[0m \u001b[0mvalue\u001b[0m\u001b[1;33m:\u001b[0m\u001b[1;33m\u001b[0m\u001b[1;33m\u001b[0m\u001b[0m\n\u001b[1;32m----> 4\u001b[1;33m     \u001b[0mprint\u001b[0m\u001b[1;33m(\u001b[0m\u001b[0mlist\u001b[0m\u001b[1;33m(\u001b[0m\u001b[0mcompute\u001b[0m\u001b[1;33m(\u001b[0m\u001b[0mvalue\u001b[0m\u001b[1;33m,\u001b[0m \u001b[1;36m1\u001b[0m\u001b[1;33m,\u001b[0m \u001b[1;36m2\u001b[0m\u001b[1;33m)\u001b[0m\u001b[1;33m)\u001b[0m\u001b[1;33m)\u001b[0m\u001b[1;33m\u001b[0m\u001b[1;33m\u001b[0m\u001b[0m\n\u001b[0m",
      "\u001b[1;32m<ipython-input-5-9269be4682dc>\u001b[0m in \u001b[0;36mcompute\u001b[1;34m(x, y, z)\u001b[0m\n\u001b[0;32m      6\u001b[0m         \u001b[0mprint\u001b[0m\u001b[1;33m(\u001b[0m\u001b[1;34m'The value:'\u001b[0m\u001b[1;33m,\u001b[0m \u001b[1;33m(\u001b[0m\u001b[0mx\u001b[0m\u001b[1;33m/\u001b[0m\u001b[0mz\u001b[0m\u001b[1;33m)\u001b[0m\u001b[1;33m)\u001b[0m\u001b[1;33m\u001b[0m\u001b[1;33m\u001b[0m\u001b[0m\n\u001b[0;32m      7\u001b[0m \u001b[1;33m\u001b[0m\u001b[0m\n\u001b[1;32m----> 8\u001b[1;33m     \u001b[1;32mreturn\u001b[0m \u001b[1;33m(\u001b[0m\u001b[1;33m(\u001b[0m\u001b[0mx\u001b[0m\u001b[1;33m/\u001b[0m\u001b[0my\u001b[0m\u001b[1;33m)\u001b[0m\u001b[1;33m*\u001b[0m\u001b[1;33m(\u001b[0m\u001b[0mx\u001b[0m\u001b[1;33m/\u001b[0m\u001b[0mz\u001b[0m\u001b[1;33m)\u001b[0m \u001b[1;33m==\u001b[0m \u001b[1;36m1\u001b[0m\u001b[1;33m)\u001b[0m\u001b[1;33m\u001b[0m\u001b[1;33m\u001b[0m\u001b[0m\n\u001b[0m",
      "\u001b[1;31mTypeError\u001b[0m: unsupported operand type(s) for /: 'list' and 'int'"
     ]
    }
   ],
   "source": [
    "value = [1, 3, 5, 7,9]\n",
    "\n",
    "for i in value:\n",
    "    print(list(compute(value, 1, 2)))"
   ]
  },
  {
   "cell_type": "code",
   "execution_count": null,
   "metadata": {},
   "outputs": [],
   "source": [
    "compute(value, 10, 1)"
   ]
  },
  {
   "cell_type": "code",
   "execution_count": null,
   "metadata": {},
   "outputs": [],
   "source": [
    "km = 1.4\n"
   ]
  },
  {
   "cell_type": "code",
   "execution_count": null,
   "metadata": {},
   "outputs": [],
   "source": [
    "def Gaussmann_improved(km, ko):\n",
    "    \n",
    "    \"\"\"This equation was is called the Gaussaman euation used for fluid replacemenr\n",
    "       . It was further developed Mavko, Zimmermm and Merkerji\n",
    "       \n",
    "    kr = 'Bulk rock density'\n",
    "    km = 'Bulk mineral density'\n",
    "    ko = 'Bulk mineral porsity'\n",
    "    po = 'Porosity of the rock'\n",
    "    pm = 'porosity of mineral'\n",
    "    pw = 'porosity of water'\n",
    "    pb = 'bulk porosity of mineral'\n",
    "    o = \n",
    "    \n",
    "    \n",
    "    \"\"\"\n",
    "    #pb =\n",
    "    Q = 1/km + 1/km\n",
    "    Q\n",
    "    \n",
    "    return Q\n",
    "    "
   ]
  },
  {
   "cell_type": "code",
   "execution_count": null,
   "metadata": {},
   "outputs": [],
   "source": [
    "Gaussmann_improved(1.4, 0.75)"
   ]
  },
  {
   "cell_type": "code",
   "execution_count": null,
   "metadata": {},
   "outputs": [],
   "source": [
    "L = np.arange(0.05, 1, 0.005)\n",
    "L"
   ]
  },
  {
   "cell_type": "code",
   "execution_count": null,
   "metadata": {},
   "outputs": [],
   "source": [
    "plt.plot(L, Gaussmann_improved)"
   ]
  },
  {
   "cell_type": "code",
   "execution_count": null,
   "metadata": {},
   "outputs": [],
   "source": [
    "data = {'OML 31':[1890, 3400, 4500],\n",
    "       'OML 32': [1009, 3400, 4100],\n",
    "       'OML 40': [1200, 2200, 3200],\n",
    "       'OML 56': [1300, 4500, 5000],\n",
    "       'OML 129': [4500, 6000, 7500],\n",
    "       'OML 90': [3400, 4000, 5000]}"
   ]
  },
  {
   "cell_type": "code",
   "execution_count": null,
   "metadata": {},
   "outputs": [],
   "source": [
    "data.items()"
   ]
  },
  {
   "cell_type": "code",
   "execution_count": null,
   "metadata": {},
   "outputs": [],
   "source": [
    "for key, value in data:\n",
    "    depth, vp_value, vs_value = input\n",
    "    "
   ]
  },
  {
   "cell_type": "code",
   "execution_count": null,
   "metadata": {},
   "outputs": [],
   "source": [
    "dir(br)"
   ]
  },
  {
   "cell_type": "code",
   "execution_count": null,
   "metadata": {},
   "outputs": [],
   "source": [
    "w, t = br.filters.ricker(duration=0.128, dt=0.001, f=35, return_t=True)\n",
    "plt.plot(t, w)"
   ]
  },
  {
   "cell_type": "code",
   "execution_count": null,
   "metadata": {},
   "outputs": [],
   "source": []
  }
 ],
 "metadata": {
  "kernelspec": {
   "display_name": "Python 3",
   "language": "python",
   "name": "python3"
  },
  "language_info": {
   "codemirror_mode": {
    "name": "ipython",
    "version": 3
   },
   "file_extension": ".py",
   "mimetype": "text/x-python",
   "name": "python",
   "nbconvert_exporter": "python",
   "pygments_lexer": "ipython3",
   "version": "3.7.4"
  }
 },
 "nbformat": 4,
 "nbformat_minor": 2
}
